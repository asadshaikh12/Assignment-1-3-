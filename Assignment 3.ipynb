{
 "cells": [
  {
   "cell_type": "code",
   "execution_count": 3,
   "id": "d4f4b3b4",
   "metadata": {},
   "outputs": [
    {
     "name": "stdout",
     "output_type": "stream",
     "text": [
      "Even numbers in Series : 4\n",
      "Odd numbers in Series : 5\n"
     ]
    }
   ],
   "source": [
    "Series = [11,12,13,14,15,16,17,18,19]\n",
    "even_count=0\n",
    "odd_count=0\n",
    "for i in Series:\n",
    "    if i%2==0:\n",
    "        even_count+=1\n",
    "         \n",
    "    else:\n",
    "        odd_count+=1\n",
    "        \n",
    "print(\"Even numbers in Series :\", even_count)\n",
    "print(\"Odd numbers in Series :\", odd_count)\n"
   ]
  },
  {
   "cell_type": "code",
   "execution_count": null,
   "id": "ed77e456",
   "metadata": {},
   "outputs": [],
   "source": []
  }
 ],
 "metadata": {
  "kernelspec": {
   "display_name": "Python 3 (ipykernel)",
   "language": "python",
   "name": "python3"
  },
  "language_info": {
   "codemirror_mode": {
    "name": "ipython",
    "version": 3
   },
   "file_extension": ".py",
   "mimetype": "text/x-python",
   "name": "python",
   "nbconvert_exporter": "python",
   "pygments_lexer": "ipython3",
   "version": "3.10.1"
  }
 },
 "nbformat": 4,
 "nbformat_minor": 5
}
